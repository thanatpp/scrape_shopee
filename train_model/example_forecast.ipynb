{
 "cells": [
  {
   "cell_type": "code",
   "execution_count": 1,
   "metadata": {},
   "outputs": [],
   "source": [
    "import pandas as pd"
   ]
  },
  {
   "cell_type": "code",
   "execution_count": 2,
   "metadata": {},
   "outputs": [
    {
     "data": {
      "text/html": [
       "<div>\n",
       "<style scoped>\n",
       "    .dataframe tbody tr th:only-of-type {\n",
       "        vertical-align: middle;\n",
       "    }\n",
       "\n",
       "    .dataframe tbody tr th {\n",
       "        vertical-align: top;\n",
       "    }\n",
       "\n",
       "    .dataframe thead th {\n",
       "        text-align: right;\n",
       "    }\n",
       "</style>\n",
       "<table border=\"1\" class=\"dataframe\">\n",
       "  <thead>\n",
       "    <tr style=\"text-align: right;\">\n",
       "      <th></th>\n",
       "      <th>date</th>\n",
       "      <th>value</th>\n",
       "    </tr>\n",
       "  </thead>\n",
       "  <tbody>\n",
       "    <tr>\n",
       "      <th>0</th>\n",
       "      <td>31/1/2002</td>\n",
       "      <td>4.355714</td>\n",
       "    </tr>\n",
       "    <tr>\n",
       "      <th>1</th>\n",
       "      <td>28/2/2002</td>\n",
       "      <td>4.359600</td>\n",
       "    </tr>\n",
       "    <tr>\n",
       "      <th>2</th>\n",
       "      <td>31/3/2002</td>\n",
       "      <td>4.449108</td>\n",
       "    </tr>\n",
       "    <tr>\n",
       "      <th>3</th>\n",
       "      <td>30/4/2002</td>\n",
       "      <td>4.507384</td>\n",
       "    </tr>\n",
       "    <tr>\n",
       "      <th>4</th>\n",
       "      <td>31/5/2002</td>\n",
       "      <td>4.573611</td>\n",
       "    </tr>\n",
       "  </tbody>\n",
       "</table>\n",
       "</div>"
      ],
      "text/plain": [
       "        date     value\n",
       "0  31/1/2002  4.355714\n",
       "1  28/2/2002  4.359600\n",
       "2  31/3/2002  4.449108\n",
       "3  30/4/2002  4.507384\n",
       "4  31/5/2002  4.573611"
      ]
     },
     "execution_count": 2,
     "metadata": {},
     "output_type": "execute_result"
    }
   ],
   "source": [
    "df = pd.read_csv('../data/data_soyben_month_1.csv')\n",
    "df.head()"
   ]
  },
  {
   "cell_type": "code",
   "execution_count": 3,
   "metadata": {},
   "outputs": [],
   "source": [
    "df=df.reset_index()['value']\n"
   ]
  },
  {
   "cell_type": "code",
   "execution_count": 4,
   "metadata": {},
   "outputs": [
    {
     "data": {
      "text/plain": [
       "[<matplotlib.lines.Line2D at 0x12b3cf3a0>]"
      ]
     },
     "execution_count": 4,
     "metadata": {},
     "output_type": "execute_result"
    },
    {
     "data": {
      "image/png": "[encoded data removed]",
      "text/plain": [
       "<Figure size 640x480 with 1 Axes>"
      ]
     },
     "metadata": {},
     "output_type": "display_data"
    }
   ],
   "source": [
    "import matplotlib.pyplot as plt\n",
    "plt.plot(df)\n"
   ]
  },
  {
   "cell_type": "code",
   "execution_count": 5,
   "metadata": {},
   "outputs": [],
   "source": [
    "import numpy as np\n",
    "from sklearn.preprocessing import MinMaxScaler\n",
    "\n",
    "scaler=MinMaxScaler(feature_range=(0,1))\n",
    "df1=scaler.fit_transform(np.array(df).reshape(-1,1))"
   ]
  },
  {
   "cell_type": "code",
   "execution_count": 6,
   "metadata": {},
   "outputs": [
    {
     "data": {
      "text/plain": [
       "(210, 53)"
      ]
     },
     "execution_count": 6,
     "metadata": {},
     "output_type": "execute_result"
    }
   ],
   "source": [
    "training_size=int(len(df1)*0.80)\n",
    "test_size=len(df1)-training_size\n",
    "train_data,test_data=df1[0:training_size,:],df1[training_size:len(df1),:1]\n",
    "\n",
    "training_size,test_size"
   ]
  },
  {
   "cell_type": "code",
   "execution_count": 7,
   "metadata": {},
   "outputs": [],
   "source": [
    "import numpy\n",
    "# convert an array of values into a dataset matrix\n",
    "def create_dataset(dataset, time_step=1):\n",
    "\tdataX, dataY = [], []\n",
    "\tfor i in range(len(dataset)-time_step-1):\n",
    "\t\ta = dataset[i:(i+time_step), 0]   ###i=0, X=0,1,2,3-----99   Y=100 \n",
    "\t\tdataX.append(a)\n",
    "\t\tdataY.append(dataset[i + time_step, 0])\n",
    "\treturn numpy.array(dataX), numpy.array(dataY)"
   ]
  },
  {
   "cell_type": "code",
   "execution_count": 8,
   "metadata": {},
   "outputs": [],
   "source": [
    "time_step = 20\n",
    "X_train, y_train = create_dataset(train_data, time_step)\n",
    "X_test, ytest = create_dataset(test_data, time_step)\n"
   ]
  },
  {
   "cell_type": "code",
   "execution_count": 9,
   "metadata": {},
   "outputs": [
    {
     "name": "stdout",
     "output_type": "stream",
     "text": [
      "(189, 20)\n",
      "(189,)\n"
     ]
    },
    {
     "data": {
      "text/plain": [
       "(None, None)"
      ]
     },
     "execution_count": 9,
     "metadata": {},
     "output_type": "execute_result"
    }
   ],
   "source": [
    "print(X_train.shape), print(y_train.shape)"
   ]
  },
  {
   "cell_type": "code",
   "execution_count": 10,
   "metadata": {},
   "outputs": [],
   "source": [
    "# reshape input to be [samples, time steps, features] which is required for LSTM\n",
    "X_train =X_train.reshape(X_train.shape[0],X_train.shape[1] , 1)\n",
    "X_test = X_test.reshape(X_test.shape[0],X_test.shape[1] , 1)"
   ]
  },
  {
   "cell_type": "code",
   "execution_count": 11,
   "metadata": {},
   "outputs": [
    {
     "name": "stderr",
     "output_type": "stream",
     "text": [
      "2022-12-14 13:45:35.101196: I tensorflow/core/platform/cpu_feature_guard.cc:193] This TensorFlow binary is optimized with oneAPI Deep Neural Network Library (oneDNN) to use the following CPU instructions in performance-critical operations:  AVX2 FMA\n",
      "To enable them in other operations, rebuild TensorFlow with the appropriate compiler flags.\n"
     ]
    }
   ],
   "source": [
    "### Create the Stacked LSTM model\n",
    "from tensorflow.keras.models import Sequential\n",
    "from tensorflow.keras.layers import Dense\n",
    "from tensorflow.keras.layers import LSTM"
   ]
  },
  {
   "cell_type": "code",
   "execution_count": 12,
   "metadata": {},
   "outputs": [
    {
     "name": "stderr",
     "output_type": "stream",
     "text": [
      "2022-12-14 13:45:41.298998: I tensorflow/core/platform/cpu_feature_guard.cc:193] This TensorFlow binary is optimized with oneAPI Deep Neural Network Library (oneDNN) to use the following CPU instructions in performance-critical operations:  AVX2 FMA\n",
      "To enable them in other operations, rebuild TensorFlow with the appropriate compiler flags.\n"
     ]
    }
   ],
   "source": [
    "model=Sequential()\n",
    "model.add(LSTM(10,return_sequences=True,input_shape=(20,1)))\n",
    "model.add(LSTM(10,return_sequences=True))\n",
    "model.add(LSTM(10))\n",
    "model.add(Dense(1))\n",
    "model.compile(loss='mean_squared_error',optimizer='adam')"
   ]
  },
  {
   "cell_type": "code",
   "execution_count": 13,
   "metadata": {},
   "outputs": [
    {
     "name": "stdout",
     "output_type": "stream",
     "text": [
      "Epoch 1/100\n",
      "3/3 [==============================] - 6s 542ms/step - loss: 0.2717 - val_loss: 0.6414\n",
      "Epoch 2/100\n",
      "3/3 [==============================] - 0s 27ms/step - loss: 0.2444 - val_loss: 0.5866\n",
      "Epoch 3/100\n",
      "3/3 [==============================] - 0s 28ms/step - loss: 0.2162 - val_loss: 0.5291\n",
      "Epoch 4/100\n",
      "3/3 [==============================] - 0s 28ms/step - loss: 0.1875 - val_loss: 0.4676\n",
      "Epoch 5/100\n",
      "3/3 [==============================] - 0s 27ms/step - loss: 0.1564 - val_loss: 0.4013\n",
      "Epoch 6/100\n",
      "3/3 [==============================] - 0s 27ms/step - loss: 0.1255 - val_loss: 0.3300\n",
      "Epoch 7/100\n",
      "3/3 [==============================] - 0s 28ms/step - loss: 0.0947 - val_loss: 0.2557\n",
      "Epoch 8/100\n",
      "3/3 [==============================] - 0s 27ms/step - loss: 0.0646 - val_loss: 0.1828\n",
      "Epoch 9/100\n",
      "3/3 [==============================] - 0s 27ms/step - loss: 0.0406 - val_loss: 0.1179\n",
      "Epoch 10/100\n",
      "3/3 [==============================] - 0s 27ms/step - loss: 0.0267 - val_loss: 0.0684\n",
      "Epoch 11/100\n",
      "3/3 [==============================] - 0s 27ms/step - loss: 0.0245 - val_loss: 0.0392\n",
      "Epoch 12/100\n",
      "3/3 [==============================] - 0s 27ms/step - loss: 0.0293 - val_loss: 0.0282\n",
      "Epoch 13/100\n",
      "3/3 [==============================] - 0s 28ms/step - loss: 0.0322 - val_loss: 0.0289\n",
      "Epoch 14/100\n",
      "3/3 [==============================] - 0s 29ms/step - loss: 0.0297 - val_loss: 0.0382\n",
      "Epoch 15/100\n",
      "3/3 [==============================] - 0s 27ms/step - loss: 0.0252 - val_loss: 0.0524\n",
      "Epoch 16/100\n",
      "3/3 [==============================] - 0s 27ms/step - loss: 0.0228 - val_loss: 0.0679\n",
      "Epoch 17/100\n",
      "3/3 [==============================] - 0s 27ms/step - loss: 0.0217 - val_loss: 0.0784\n",
      "Epoch 18/100\n",
      "3/3 [==============================] - 0s 27ms/step - loss: 0.0220 - val_loss: 0.0830\n",
      "Epoch 19/100\n",
      "3/3 [==============================] - 0s 27ms/step - loss: 0.0220 - val_loss: 0.0808\n",
      "Epoch 20/100\n",
      "3/3 [==============================] - 0s 27ms/step - loss: 0.0213 - val_loss: 0.0745\n",
      "Epoch 21/100\n",
      "3/3 [==============================] - 0s 27ms/step - loss: 0.0204 - val_loss: 0.0652\n",
      "Epoch 22/100\n",
      "3/3 [==============================] - 0s 27ms/step - loss: 0.0194 - val_loss: 0.0564\n",
      "Epoch 23/100\n",
      "3/3 [==============================] - 0s 27ms/step - loss: 0.0189 - val_loss: 0.0500\n",
      "Epoch 24/100\n",
      "3/3 [==============================] - 0s 27ms/step - loss: 0.0186 - val_loss: 0.0467\n",
      "Epoch 25/100\n",
      "3/3 [==============================] - 0s 27ms/step - loss: 0.0183 - val_loss: 0.0459\n",
      "Epoch 26/100\n",
      "3/3 [==============================] - 0s 27ms/step - loss: 0.0179 - val_loss: 0.0483\n",
      "Epoch 27/100\n",
      "3/3 [==============================] - 0s 27ms/step - loss: 0.0174 - val_loss: 0.0503\n",
      "Epoch 28/100\n",
      "3/3 [==============================] - 0s 27ms/step - loss: 0.0172 - val_loss: 0.0522\n",
      "Epoch 29/100\n",
      "3/3 [==============================] - 0s 27ms/step - loss: 0.0168 - val_loss: 0.0505\n",
      "Epoch 30/100\n",
      "3/3 [==============================] - 0s 30ms/step - loss: 0.0166 - val_loss: 0.0476\n",
      "Epoch 31/100\n",
      "3/3 [==============================] - 0s 28ms/step - loss: 0.0163 - val_loss: 0.0456\n",
      "Epoch 32/100\n",
      "3/3 [==============================] - 0s 28ms/step - loss: 0.0161 - val_loss: 0.0445\n",
      "Epoch 33/100\n",
      "3/3 [==============================] - 0s 27ms/step - loss: 0.0159 - val_loss: 0.0430\n",
      "Epoch 34/100\n",
      "3/3 [==============================] - 0s 27ms/step - loss: 0.0157 - val_loss: 0.0430\n",
      "Epoch 35/100\n",
      "3/3 [==============================] - 0s 28ms/step - loss: 0.0156 - val_loss: 0.0435\n",
      "Epoch 36/100\n",
      "3/3 [==============================] - 0s 29ms/step - loss: 0.0154 - val_loss: 0.0423\n",
      "Epoch 37/100\n",
      "3/3 [==============================] - 0s 30ms/step - loss: 0.0153 - val_loss: 0.0409\n",
      "Epoch 38/100\n",
      "3/3 [==============================] - 0s 28ms/step - loss: 0.0151 - val_loss: 0.0399\n",
      "Epoch 39/100\n",
      "3/3 [==============================] - 0s 27ms/step - loss: 0.0150 - val_loss: 0.0407\n",
      "Epoch 40/100\n",
      "3/3 [==============================] - 0s 30ms/step - loss: 0.0149 - val_loss: 0.0411\n",
      "Epoch 41/100\n",
      "3/3 [==============================] - 0s 39ms/step - loss: 0.0147 - val_loss: 0.0403\n",
      "Epoch 42/100\n",
      "3/3 [==============================] - 0s 55ms/step - loss: 0.0146 - val_loss: 0.0386\n",
      "Epoch 43/100\n",
      "3/3 [==============================] - 0s 44ms/step - loss: 0.0145 - val_loss: 0.0389\n",
      "Epoch 44/100\n",
      "3/3 [==============================] - 0s 46ms/step - loss: 0.0143 - val_loss: 0.0374\n",
      "Epoch 45/100\n",
      "3/3 [==============================] - 0s 75ms/step - loss: 0.0142 - val_loss: 0.0371\n",
      "Epoch 46/100\n",
      "3/3 [==============================] - 0s 36ms/step - loss: 0.0140 - val_loss: 0.0370\n",
      "Epoch 47/100\n",
      "3/3 [==============================] - 0s 30ms/step - loss: 0.0138 - val_loss: 0.0366\n",
      "Epoch 48/100\n",
      "3/3 [==============================] - 0s 37ms/step - loss: 0.0137 - val_loss: 0.0363\n",
      "Epoch 49/100\n",
      "3/3 [==============================] - 0s 42ms/step - loss: 0.0135 - val_loss: 0.0351\n",
      "Epoch 50/100\n",
      "3/3 [==============================] - 0s 54ms/step - loss: 0.0133 - val_loss: 0.0338\n",
      "Epoch 51/100\n",
      "3/3 [==============================] - 0s 46ms/step - loss: 0.0131 - val_loss: 0.0323\n",
      "Epoch 52/100\n",
      "3/3 [==============================] - 0s 36ms/step - loss: 0.0129 - val_loss: 0.0344\n",
      "Epoch 53/100\n",
      "3/3 [==============================] - 0s 41ms/step - loss: 0.0127 - val_loss: 0.0343\n",
      "Epoch 54/100\n",
      "3/3 [==============================] - 0s 92ms/step - loss: 0.0124 - val_loss: 0.0315\n",
      "Epoch 55/100\n",
      "3/3 [==============================] - 0s 104ms/step - loss: 0.0123 - val_loss: 0.0277\n",
      "Epoch 56/100\n",
      "3/3 [==============================] - 0s 63ms/step - loss: 0.0119 - val_loss: 0.0294\n",
      "Epoch 57/100\n",
      "3/3 [==============================] - 0s 58ms/step - loss: 0.0116 - val_loss: 0.0313\n",
      "Epoch 58/100\n",
      "3/3 [==============================] - 0s 49ms/step - loss: 0.0115 - val_loss: 0.0305\n",
      "Epoch 59/100\n",
      "3/3 [==============================] - 0s 47ms/step - loss: 0.0112 - val_loss: 0.0251\n",
      "Epoch 60/100\n",
      "3/3 [==============================] - 0s 72ms/step - loss: 0.0109 - val_loss: 0.0239\n",
      "Epoch 61/100\n",
      "3/3 [==============================] - 0s 78ms/step - loss: 0.0106 - val_loss: 0.0259\n",
      "Epoch 62/100\n",
      "3/3 [==============================] - 0s 27ms/step - loss: 0.0104 - val_loss: 0.0277\n",
      "Epoch 63/100\n",
      "3/3 [==============================] - 0s 27ms/step - loss: 0.0102 - val_loss: 0.0238\n",
      "Epoch 64/100\n",
      "3/3 [==============================] - 0s 27ms/step - loss: 0.0099 - val_loss: 0.0219\n",
      "Epoch 65/100\n",
      "3/3 [==============================] - 0s 27ms/step - loss: 0.0097 - val_loss: 0.0210\n",
      "Epoch 66/100\n",
      "3/3 [==============================] - 0s 27ms/step - loss: 0.0094 - val_loss: 0.0221\n",
      "Epoch 67/100\n",
      "3/3 [==============================] - 0s 27ms/step - loss: 0.0093 - val_loss: 0.0206\n",
      "Epoch 68/100\n",
      "3/3 [==============================] - 0s 27ms/step - loss: 0.0091 - val_loss: 0.0173\n",
      "Epoch 69/100\n",
      "3/3 [==============================] - 0s 27ms/step - loss: 0.0091 - val_loss: 0.0199\n",
      "Epoch 70/100\n",
      "3/3 [==============================] - 0s 27ms/step - loss: 0.0087 - val_loss: 0.0163\n",
      "Epoch 71/100\n",
      "3/3 [==============================] - 0s 31ms/step - loss: 0.0086 - val_loss: 0.0149\n",
      "Epoch 72/100\n",
      "3/3 [==============================] - 0s 34ms/step - loss: 0.0084 - val_loss: 0.0171\n",
      "Epoch 73/100\n",
      "3/3 [==============================] - 0s 35ms/step - loss: 0.0083 - val_loss: 0.0175\n",
      "Epoch 74/100\n",
      "3/3 [==============================] - 0s 40ms/step - loss: 0.0081 - val_loss: 0.0134\n",
      "Epoch 75/100\n",
      "3/3 [==============================] - 0s 42ms/step - loss: 0.0081 - val_loss: 0.0132\n",
      "Epoch 76/100\n",
      "3/3 [==============================] - 0s 46ms/step - loss: 0.0080 - val_loss: 0.0156\n",
      "Epoch 77/100\n",
      "3/3 [==============================] - 0s 34ms/step - loss: 0.0079 - val_loss: 0.0132\n",
      "Epoch 78/100\n",
      "3/3 [==============================] - 0s 29ms/step - loss: 0.0077 - val_loss: 0.0123\n",
      "Epoch 79/100\n",
      "3/3 [==============================] - 0s 27ms/step - loss: 0.0077 - val_loss: 0.0131\n",
      "Epoch 80/100\n",
      "3/3 [==============================] - 0s 27ms/step - loss: 0.0076 - val_loss: 0.0120\n",
      "Epoch 81/100\n",
      "3/3 [==============================] - 0s 27ms/step - loss: 0.0075 - val_loss: 0.0123\n",
      "Epoch 82/100\n",
      "3/3 [==============================] - 0s 27ms/step - loss: 0.0075 - val_loss: 0.0120\n",
      "Epoch 83/100\n",
      "3/3 [==============================] - 0s 27ms/step - loss: 0.0075 - val_loss: 0.0120\n",
      "Epoch 84/100\n",
      "3/3 [==============================] - 0s 28ms/step - loss: 0.0074 - val_loss: 0.0101\n",
      "Epoch 85/100\n",
      "3/3 [==============================] - 0s 27ms/step - loss: 0.0073 - val_loss: 0.0124\n",
      "Epoch 86/100\n",
      "3/3 [==============================] - 0s 28ms/step - loss: 0.0073 - val_loss: 0.0106\n",
      "Epoch 87/100\n",
      "3/3 [==============================] - 0s 27ms/step - loss: 0.0071 - val_loss: 0.0094\n",
      "Epoch 88/100\n",
      "3/3 [==============================] - 0s 27ms/step - loss: 0.0071 - val_loss: 0.0111\n",
      "Epoch 89/100\n",
      "3/3 [==============================] - 0s 27ms/step - loss: 0.0072 - val_loss: 0.0124\n",
      "Epoch 90/100\n",
      "3/3 [==============================] - 0s 27ms/step - loss: 0.0071 - val_loss: 0.0086\n",
      "Epoch 91/100\n",
      "3/3 [==============================] - 0s 29ms/step - loss: 0.0071 - val_loss: 0.0104\n",
      "Epoch 92/100\n",
      "3/3 [==============================] - 0s 32ms/step - loss: 0.0069 - val_loss: 0.0106\n",
      "Epoch 93/100\n",
      "3/3 [==============================] - 0s 37ms/step - loss: 0.0068 - val_loss: 0.0111\n",
      "Epoch 94/100\n",
      "3/3 [==============================] - 0s 39ms/step - loss: 0.0067 - val_loss: 0.0094\n",
      "Epoch 95/100\n",
      "3/3 [==============================] - 0s 41ms/step - loss: 0.0069 - val_loss: 0.0086\n",
      "Epoch 96/100\n",
      "3/3 [==============================] - 0s 32ms/step - loss: 0.0068 - val_loss: 0.0119\n",
      "Epoch 97/100\n",
      "3/3 [==============================] - 0s 28ms/step - loss: 0.0067 - val_loss: 0.0092\n",
      "Epoch 98/100\n",
      "3/3 [==============================] - 0s 27ms/step - loss: 0.0066 - val_loss: 0.0089\n",
      "Epoch 99/100\n",
      "3/3 [==============================] - 0s 27ms/step - loss: 0.0066 - val_loss: 0.0106\n",
      "Epoch 100/100\n",
      "3/3 [==============================] - 0s 27ms/step - loss: 0.0064 - val_loss: 0.0087\n"
     ]
    },
    {
     "data": {
      "text/plain": [
       "<keras.callbacks.History at 0x148933af0>"
      ]
     },
     "execution_count": 13,
     "metadata": {},
     "output_type": "execute_result"
    }
   ],
   "source": [
    "model.fit(X_train,y_train,validation_data=(X_test,ytest),epochs=100,batch_size=64,verbose=1)"
   ]
  },
  {
   "cell_type": "code",
   "execution_count": 14,
   "metadata": {},
   "outputs": [
    {
     "name": "stdout",
     "output_type": "stream",
     "text": [
      "6/6 [==============================] - 1s 6ms/step\n",
      "1/1 [==============================] - 0s 25ms/step\n"
     ]
    }
   ],
   "source": [
    "train_predict=model.predict(X_train)\n",
    "test_predict=model.predict(X_test)"
   ]
  },
  {
   "cell_type": "code",
   "execution_count": 15,
   "metadata": {},
   "outputs": [],
   "source": [
    "train_predict=scaler.inverse_transform(train_predict)\n",
    "test_predict=scaler.inverse_transform(test_predict)"
   ]
  },
  {
   "cell_type": "code",
   "execution_count": 16,
   "metadata": {},
   "outputs": [
    {
     "data": {
      "text/plain": [
       "9.858681507259481"
      ]
     },
     "execution_count": 16,
     "metadata": {},
     "output_type": "execute_result"
    }
   ],
   "source": [
    "import math\n",
    "from sklearn.metrics import mean_squared_error\n",
    "math.sqrt(mean_squared_error(y_train,train_predict))"
   ]
  },
  {
   "cell_type": "code",
   "execution_count": 17,
   "metadata": {},
   "outputs": [
    {
     "data": {
      "text/plain": [
       "12.619031760207518"
      ]
     },
     "execution_count": 17,
     "metadata": {},
     "output_type": "execute_result"
    }
   ],
   "source": [
    "math.sqrt(mean_squared_error(ytest,test_predict))"
   ]
  },
  {
   "cell_type": "code",
   "execution_count": 18,
   "metadata": {},
   "outputs": [
    {
     "data": {
      "image/png": "[encoded data removed]",
      "text/plain": [
       "<Figure size 640x480 with 1 Axes>"
      ]
     },
     "metadata": {},
     "output_type": "display_data"
    }
   ],
   "source": [
    "### Plotting \n",
    "# shift train predictions for plotting\n",
    "look_back=20\n",
    "trainPredictPlot = numpy.empty_like(df1)\n",
    "trainPredictPlot[:, :] = np.nan\n",
    "trainPredictPlot[look_back:len(train_predict)+look_back, :] = train_predict\n",
    "# shift test predictions for plotting\n",
    "testPredictPlot = numpy.empty_like(df1)\n",
    "testPredictPlot[:, :] = numpy.nan\n",
    "testPredictPlot[len(train_predict)+(look_back*2)+1:len(df1)-1, :] = test_predict\n",
    "# plot baseline and predictions\n",
    "plt.plot(scaler.inverse_transform(df1))\n",
    "plt.plot(trainPredictPlot)\n",
    "plt.plot(testPredictPlot)\n",
    "plt.show()"
   ]
  },
  {
   "cell_type": "code",
   "execution_count": 19,
   "metadata": {},
   "outputs": [
    {
     "data": {
      "text/plain": [
       "53"
      ]
     },
     "execution_count": 19,
     "metadata": {},
     "output_type": "execute_result"
    }
   ],
   "source": [
    "len(test_data)"
   ]
  },
  {
   "cell_type": "code",
   "execution_count": 20,
   "metadata": {},
   "outputs": [
    {
     "data": {
      "text/plain": [
       "(1, 20)"
      ]
     },
     "execution_count": 20,
     "metadata": {},
     "output_type": "execute_result"
    }
   ],
   "source": [
    "x_input=test_data[33:].reshape(1,-1)\n",
    "x_input.shape"
   ]
  },
  {
   "cell_type": "code",
   "execution_count": 21,
   "metadata": {},
   "outputs": [],
   "source": [
    "temp_input=list(x_input)\n",
    "temp_input=temp_input[0].tolist()\n"
   ]
  },
  {
   "cell_type": "code",
   "execution_count": 22,
   "metadata": {},
   "outputs": [
    {
     "name": "stdout",
     "output_type": "stream",
     "text": [
      "[0.88228613]\n",
      "21\n",
      "1 day input [0.88452223 0.90209655 0.9129497  0.93148618 0.94532058 0.95608789\n",
      " 0.97013969 0.98804622 1.         0.99748075 0.98571221 0.97093135\n",
      " 0.95321298 0.92414269 0.90893035 0.87995734 0.86827482 0.89251644\n",
      " 0.9072892  0.88228613]\n",
      "1 day output [[0.8692196]]\n",
      "2 day input [0.90209655 0.9129497  0.93148618 0.94532058 0.95608789 0.97013969\n",
      " 0.98804622 1.         0.99748075 0.98571221 0.97093135 0.95321298\n",
      " 0.92414269 0.90893035 0.87995734 0.86827482 0.89251644 0.9072892\n",
      " 0.88228613 0.8692196 ]\n",
      "2 day output [[0.85649806]]\n",
      "3 day input [0.9129497  0.93148618 0.94532058 0.95608789 0.97013969 0.98804622\n",
      " 1.         0.99748075 0.98571221 0.97093135 0.95321298 0.92414269\n",
      " 0.90893035 0.87995734 0.86827482 0.89251644 0.9072892  0.88228613\n",
      " 0.8692196  0.85649806]\n",
      "3 day output [[0.84434074]]\n",
      "4 day input [0.93148618 0.94532058 0.95608789 0.97013969 0.98804622 1.\n",
      " 0.99748075 0.98571221 0.97093135 0.95321298 0.92414269 0.90893035\n",
      " 0.87995734 0.86827482 0.89251644 0.9072892  0.88228613 0.8692196\n",
      " 0.85649806 0.84434074]\n",
      "4 day output [[0.8326423]]\n",
      "5 day input [0.94532058 0.95608789 0.97013969 0.98804622 1.         0.99748075\n",
      " 0.98571221 0.97093135 0.95321298 0.92414269 0.90893035 0.87995734\n",
      " 0.86827482 0.89251644 0.9072892  0.88228613 0.8692196  0.85649806\n",
      " 0.84434074 0.83264232]\n",
      "5 day output [[0.821512]]\n",
      "6 day input [0.95608789 0.97013969 0.98804622 1.         0.99748075 0.98571221\n",
      " 0.97093135 0.95321298 0.92414269 0.90893035 0.87995734 0.86827482\n",
      " 0.89251644 0.9072892  0.88228613 0.8692196  0.85649806 0.84434074\n",
      " 0.83264232 0.82151198]\n",
      "6 day output [[0.8108399]]\n",
      "7 day input [0.97013969 0.98804622 1.         0.99748075 0.98571221 0.97093135\n",
      " 0.95321298 0.92414269 0.90893035 0.87995734 0.86827482 0.89251644\n",
      " 0.9072892  0.88228613 0.8692196  0.85649806 0.84434074 0.83264232\n",
      " 0.82151198 0.81083989]\n",
      "7 day output [[0.80053896]]\n",
      "8 day input [0.98804622 1.         0.99748075 0.98571221 0.97093135 0.95321298\n",
      " 0.92414269 0.90893035 0.87995734 0.86827482 0.89251644 0.9072892\n",
      " 0.88228613 0.8692196  0.85649806 0.84434074 0.83264232 0.82151198\n",
      " 0.81083989 0.80053896]\n",
      "8 day output [[0.79061633]]\n",
      "9 day input [1.         0.99748075 0.98571221 0.97093135 0.95321298 0.92414269\n",
      " 0.90893035 0.87995734 0.86827482 0.89251644 0.9072892  0.88228613\n",
      " 0.8692196  0.85649806 0.84434074 0.83264232 0.82151198 0.81083989\n",
      " 0.80053896 0.79061633]\n",
      "9 day output [[0.78106946]]\n",
      "10 day input [0.99748075 0.98571221 0.97093135 0.95321298 0.92414269 0.90893035\n",
      " 0.87995734 0.86827482 0.89251644 0.9072892  0.88228613 0.8692196\n",
      " 0.85649806 0.84434074 0.83264232 0.82151198 0.81083989 0.80053896\n",
      " 0.79061633 0.78106946]\n",
      "10 day output [[0.77172124]]\n",
      "11 day input [0.98571221 0.97093135 0.95321298 0.92414269 0.90893035 0.87995734\n",
      " 0.86827482 0.89251644 0.9072892  0.88228613 0.8692196  0.85649806\n",
      " 0.84434074 0.83264232 0.82151198 0.81083989 0.80053896 0.79061633\n",
      " 0.78106946 0.77172124]\n",
      "11 day output [[0.7622805]]\n",
      "12 day input [0.97093135 0.95321298 0.92414269 0.90893035 0.87995734 0.86827482\n",
      " 0.89251644 0.9072892  0.88228613 0.8692196  0.85649806 0.84434074\n",
      " 0.83264232 0.82151198 0.81083989 0.80053896 0.79061633 0.78106946\n",
      " 0.77172124 0.76228052]\n",
      "12 day output [[0.752614]]\n",
      "13 day input [0.95321298 0.92414269 0.90893035 0.87995734 0.86827482 0.89251644\n",
      " 0.9072892  0.88228613 0.8692196  0.85649806 0.84434074 0.83264232\n",
      " 0.82151198 0.81083989 0.80053896 0.79061633 0.78106946 0.77172124\n",
      " 0.76228052 0.75261402]\n",
      "13 day output [[0.7427503]]\n",
      "14 day input [0.92414269 0.90893035 0.87995734 0.86827482 0.89251644 0.9072892\n",
      " 0.88228613 0.8692196  0.85649806 0.84434074 0.83264232 0.82151198\n",
      " 0.81083989 0.80053896 0.79061633 0.78106946 0.77172124 0.76228052\n",
      " 0.75261402 0.74275029]\n",
      "14 day output [[0.73273623]]\n",
      "15 day input [0.90893035 0.87995734 0.86827482 0.89251644 0.9072892  0.88228613\n",
      " 0.8692196  0.85649806 0.84434074 0.83264232 0.82151198 0.81083989\n",
      " 0.80053896 0.79061633 0.78106946 0.77172124 0.76228052 0.75261402\n",
      " 0.74275029 0.73273623]\n",
      "15 day output [[0.7224671]]\n",
      "16 day input [0.87995734 0.86827482 0.89251644 0.9072892  0.88228613 0.8692196\n",
      " 0.85649806 0.84434074 0.83264232 0.82151198 0.81083989 0.80053896\n",
      " 0.79061633 0.78106946 0.77172124 0.76228052 0.75261402 0.74275029\n",
      " 0.73273623 0.72246712]\n",
      "16 day output [[0.7123097]]\n",
      "17 day input [0.86827482 0.89251644 0.9072892  0.88228613 0.8692196  0.85649806\n",
      " 0.84434074 0.83264232 0.82151198 0.81083989 0.80053896 0.79061633\n",
      " 0.78106946 0.77172124 0.76228052 0.75261402 0.74275029 0.73273623\n",
      " 0.72246712 0.71230972]\n",
      "17 day output [[0.7020426]]\n",
      "18 day input [0.89251644 0.9072892  0.88228613 0.8692196  0.85649806 0.84434074\n",
      " 0.83264232 0.82151198 0.81083989 0.80053896 0.79061633 0.78106946\n",
      " 0.77172124 0.76228052 0.75261402 0.74275029 0.73273623 0.72246712\n",
      " 0.71230972 0.70204258]\n",
      "18 day output [[0.6920534]]\n",
      "19 day input [0.9072892  0.88228613 0.8692196  0.85649806 0.84434074 0.83264232\n",
      " 0.82151198 0.81083989 0.80053896 0.79061633 0.78106946 0.77172124\n",
      " 0.76228052 0.75261402 0.74275029 0.73273623 0.72246712 0.71230972\n",
      " 0.70204258 0.69205338]\n",
      "19 day output [[0.6830071]]\n",
      "20 day input [0.88228613 0.8692196  0.85649806 0.84434074 0.83264232 0.82151198\n",
      " 0.81083989 0.80053896 0.79061633 0.78106946 0.77172124 0.76228052\n",
      " 0.75261402 0.74275029 0.73273623 0.72246712 0.71230972 0.70204258\n",
      " 0.69205338 0.68300712]\n",
      "20 day output [[0.6745702]]\n",
      "21 day input [0.8692196  0.85649806 0.84434074 0.83264232 0.82151198 0.81083989\n",
      " 0.80053896 0.79061633 0.78106946 0.77172124 0.76228052 0.75261402\n",
      " 0.74275029 0.73273623 0.72246712 0.71230972 0.70204258 0.69205338\n",
      " 0.68300712 0.6745702 ]\n",
      "21 day output [[0.6658945]]\n",
      "22 day input [0.85649806 0.84434074 0.83264232 0.82151198 0.81083989 0.80053896\n",
      " 0.79061633 0.78106946 0.77172124 0.76228052 0.75261402 0.74275029\n",
      " 0.73273623 0.72246712 0.71230972 0.70204258 0.69205338 0.68300712\n",
      " 0.6745702  0.66589451]\n",
      "22 day output [[0.65732324]]\n",
      "23 day input [0.84434074 0.83264232 0.82151198 0.81083989 0.80053896 0.79061633\n",
      " 0.78106946 0.77172124 0.76228052 0.75261402 0.74275029 0.73273623\n",
      " 0.72246712 0.71230972 0.70204258 0.69205338 0.68300712 0.6745702\n",
      " 0.66589451 0.65732324]\n",
      "23 day output [[0.6489161]]\n",
      "24 day input [0.83264232 0.82151198 0.81083989 0.80053896 0.79061633 0.78106946\n",
      " 0.77172124 0.76228052 0.75261402 0.74275029 0.73273623 0.72246712\n",
      " 0.71230972 0.70204258 0.69205338 0.68300712 0.6745702  0.66589451\n",
      " 0.65732324 0.64891613]\n",
      "24 day output [[0.6407306]]\n",
      "25 day input [0.82151198 0.81083989 0.80053896 0.79061633 0.78106946 0.77172124\n",
      " 0.76228052 0.75261402 0.74275029 0.73273623 0.72246712 0.71230972\n",
      " 0.70204258 0.69205338 0.68300712 0.6745702  0.66589451 0.65732324\n",
      " 0.64891613 0.64073062]\n",
      "25 day output [[0.6328125]]\n",
      "26 day input [0.81083989 0.80053896 0.79061633 0.78106946 0.77172124 0.76228052\n",
      " 0.75261402 0.74275029 0.73273623 0.72246712 0.71230972 0.70204258\n",
      " 0.69205338 0.68300712 0.6745702  0.66589451 0.65732324 0.64891613\n",
      " 0.64073062 0.6328125 ]\n",
      "26 day output [[0.6252014]]\n",
      "27 day input [0.80053896 0.79061633 0.78106946 0.77172124 0.76228052 0.75261402\n",
      " 0.74275029 0.73273623 0.72246712 0.71230972 0.70204258 0.69205338\n",
      " 0.68300712 0.6745702  0.66589451 0.65732324 0.64891613 0.64073062\n",
      " 0.6328125  0.6252014 ]\n",
      "27 day output [[0.6179253]]\n",
      "28 day input [0.79061633 0.78106946 0.77172124 0.76228052 0.75261402 0.74275029\n",
      " 0.73273623 0.72246712 0.71230972 0.70204258 0.69205338 0.68300712\n",
      " 0.6745702  0.66589451 0.65732324 0.64891613 0.64073062 0.6328125\n",
      " 0.6252014  0.61792529]\n",
      "28 day output [[0.6110035]]\n",
      "29 day input [0.78106946 0.77172124 0.76228052 0.75261402 0.74275029 0.73273623\n",
      " 0.72246712 0.71230972 0.70204258 0.69205338 0.68300712 0.6745702\n",
      " 0.66589451 0.65732324 0.64891613 0.64073062 0.6328125  0.6252014\n",
      " 0.61792529 0.61100352]\n",
      "29 day output [[0.6044507]]\n",
      "30 day input [0.77172124 0.76228052 0.75261402 0.74275029 0.73273623 0.72246712\n",
      " 0.71230972 0.70204258 0.69205338 0.68300712 0.6745702  0.66589451\n",
      " 0.65732324 0.64891613 0.64073062 0.6328125  0.6252014  0.61792529\n",
      " 0.61100352 0.6044507 ]\n",
      "30 day output [[0.59827685]]\n",
      "31 day input [0.76228052 0.75261402 0.74275029 0.73273623 0.72246712 0.71230972\n",
      " 0.70204258 0.69205338 0.68300712 0.6745702  0.66589451 0.65732324\n",
      " 0.64891613 0.64073062 0.6328125  0.6252014  0.61792529 0.61100352\n",
      " 0.6044507  0.59827685]\n",
      "31 day output [[0.5924853]]\n",
      "32 day input [0.75261402 0.74275029 0.73273623 0.72246712 0.71230972 0.70204258\n",
      " 0.69205338 0.68300712 0.6745702  0.66589451 0.65732324 0.64891613\n",
      " 0.64073062 0.6328125  0.6252014  0.61792529 0.61100352 0.6044507\n",
      " 0.59827685 0.59248531]\n",
      "32 day output [[0.58707345]]\n",
      "33 day input [0.74275029 0.73273623 0.72246712 0.71230972 0.70204258 0.69205338\n",
      " 0.68300712 0.6745702  0.66589451 0.65732324 0.64891613 0.64073062\n",
      " 0.6328125  0.6252014  0.61792529 0.61100352 0.6044507  0.59827685\n",
      " 0.59248531 0.58707345]\n",
      "33 day output [[0.5820354]]\n",
      "34 day input [0.73273623 0.72246712 0.71230972 0.70204258 0.69205338 0.68300712\n",
      " 0.6745702  0.66589451 0.65732324 0.64891613 0.64073062 0.6328125\n",
      " 0.6252014  0.61792529 0.61100352 0.6044507  0.59827685 0.59248531\n",
      " 0.58707345 0.58203542]\n",
      "34 day output [[0.5773675]]\n",
      "35 day input [0.72246712 0.71230972 0.70204258 0.69205338 0.68300712 0.6745702\n",
      " 0.66589451 0.65732324 0.64891613 0.64073062 0.6328125  0.6252014\n",
      " 0.61792529 0.61100352 0.6044507  0.59827685 0.59248531 0.58707345\n",
      " 0.58203542 0.57736748]\n",
      "35 day output [[0.57306635]]\n",
      "[[0.8822861313819885], [0.8692196011543274], [0.8564980626106262], [0.8443407416343689], [0.8326423168182373], [0.82151198387146], [0.8108398914337158], [0.800538957118988], [0.7906163334846497], [0.7810694575309753], [0.7717212438583374], [0.7622805237770081], [0.7526140213012695], [0.7427502870559692], [0.7327362298965454], [0.7224671244621277], [0.712309718132019], [0.7020425796508789], [0.6920533776283264], [0.6830071210861206], [0.6745702028274536], [0.6658945083618164], [0.6573232412338257], [0.6489161252975464], [0.640730619430542], [0.6328125], [0.625201404094696], [0.6179252862930298], [0.6110035181045532], [0.6044507026672363], [0.5982768535614014], [0.5924853086471558], [0.5870734453201294], [0.5820354223251343], [0.5773674845695496], [0.5730663537979126]]\n"
     ]
    }
   ],
   "source": [
    "from numpy import array\n",
    "\n",
    "lst_output=[]\n",
    "n_steps=20\n",
    "i=0\n",
    "while(i<36):\n",
    "    \n",
    "    if(len(temp_input)>20):\n",
    "        #print(temp_input)\n",
    "        x_input=np.array(temp_input[1:])\n",
    "        print(\"{} day input {}\".format(i,x_input))\n",
    "        x_input=x_input.reshape(1,-1)\n",
    "        x_input = x_input.reshape((1, n_steps, 1))\n",
    "        #print(x_input)\n",
    "        yhat = model.predict(x_input, verbose=0)\n",
    "        print(\"{} day output {}\".format(i,yhat))\n",
    "        temp_input.extend(yhat[0].tolist())\n",
    "        temp_input=temp_input[1:]\n",
    "        #print(temp_input)\n",
    "        lst_output.extend(yhat.tolist())\n",
    "        i=i+1\n",
    "    else:\n",
    "        x_input = x_input.reshape((1, n_steps,1))\n",
    "        yhat = model.predict(x_input, verbose=0)\n",
    "        print(yhat[0])\n",
    "        temp_input.extend(yhat[0].tolist())\n",
    "        print(len(temp_input))\n",
    "        lst_output.extend(yhat.tolist())\n",
    "        i=i+1\n",
    "    \n",
    "\n",
    "print(lst_output)"
   ]
  },
  {
   "cell_type": "code",
   "execution_count": 23,
   "metadata": {},
   "outputs": [],
   "source": [
    "day_new=np.arange(1,21)\n",
    "day_pred=np.arange(21,57)"
   ]
  },
  {
   "cell_type": "code",
   "execution_count": 24,
   "metadata": {},
   "outputs": [],
   "source": [
    "import matplotlib.pyplot as plt"
   ]
  },
  {
   "cell_type": "code",
   "execution_count": 25,
   "metadata": {},
   "outputs": [
    {
     "data": {
      "text/plain": [
       "263"
      ]
     },
     "execution_count": 25,
     "metadata": {},
     "output_type": "execute_result"
    }
   ],
   "source": [
    "len(df1)"
   ]
  },
  {
   "cell_type": "code",
   "execution_count": 26,
   "metadata": {},
   "outputs": [
    {
     "data": {
      "text/plain": [
       "array([[14.34524054],\n",
       "       [14.1972971 ],\n",
       "       [14.05325977],\n",
       "       [13.91561068],\n",
       "       [13.78315737],\n",
       "       [13.65713617],\n",
       "       [13.53630333],\n",
       "       [13.41967285],\n",
       "       [13.30732572],\n",
       "       [13.19923293],\n",
       "       [13.09338946],\n",
       "       [12.98649861],\n",
       "       [12.87705137],\n",
       "       [12.76537101],\n",
       "       [12.65198865],\n",
       "       [12.53571854],\n",
       "       [12.42071313],\n",
       "       [12.3044653 ],\n",
       "       [12.19136436],\n",
       "       [12.08893974],\n",
       "       [11.99341425],\n",
       "       [11.89518526],\n",
       "       [11.79813863],\n",
       "       [11.70295057],\n",
       "       [11.61027165],\n",
       "       [11.52062016],\n",
       "       [11.43444489],\n",
       "       [11.35206236],\n",
       "       [11.27369188],\n",
       "       [11.1994988 ],\n",
       "       [11.12959651],\n",
       "       [11.06402278],\n",
       "       [11.00274793],\n",
       "       [10.94570582],\n",
       "       [10.89285393],\n",
       "       [10.84415515]])"
      ]
     },
     "execution_count": 26,
     "metadata": {},
     "output_type": "execute_result"
    }
   ],
   "source": [
    "scaler.inverse_transform(lst_output)"
   ]
  },
  {
   "cell_type": "code",
   "execution_count": 27,
   "metadata": {},
   "outputs": [
    {
     "data": {
      "image/png": "[encoded data removed]",
      "text/plain": [
       "<Figure size 640x480 with 1 Axes>"
      ]
     },
     "metadata": {},
     "output_type": "display_data"
    }
   ],
   "source": [
    "plt.plot(day_new,scaler.inverse_transform(df1[243:]))\n",
    "plt.plot(day_pred,scaler.inverse_transform(lst_output))\n",
    "plt.savefig('30daypredict.png')"
   ]
  },
  {
   "cell_type": "code",
   "execution_count": 28,
   "metadata": {},
   "outputs": [
    {
     "data": {
      "text/plain": [
       "[<matplotlib.lines.Line2D at 0x14a066970>]"
      ]
     },
     "execution_count": 28,
     "metadata": {},
     "output_type": "execute_result"
    },
    {
     "data": {
      "image/png": "[encoded data removed]",
      "text/plain": [
       "<Figure size 640x480 with 1 Axes>"
      ]
     },
     "metadata": {},
     "output_type": "display_data"
    }
   ],
   "source": [
    "df3=df1.tolist()\n",
    "df3.extend(lst_output)\n",
    "plt.plot(df3[67:])"
   ]
  },
  {
   "cell_type": "code",
   "execution_count": 29,
   "metadata": {},
   "outputs": [],
   "source": [
    "df3=scaler.inverse_transform(df3).tolist()"
   ]
  },
  {
   "cell_type": "code",
   "execution_count": 30,
   "metadata": {},
   "outputs": [
    {
     "data": {
      "text/plain": [
       "[<matplotlib.lines.Line2D at 0x14a03dee0>]"
      ]
     },
     "execution_count": 30,
     "metadata": {},
     "output_type": "execute_result"
    },
    {
     "data": {
      "image/png": "[encoded data removed]",
      "text/plain": [
       "<Figure size 640x480 with 1 Axes>"
      ]
     },
     "metadata": {},
     "output_type": "display_data"
    }
   ],
   "source": [
    "plt.plot(df3)"
   ]
  },
  {
   "cell_type": "code",
   "execution_count": 31,
   "metadata": {},
   "outputs": [
    {
     "data": {
      "text/plain": [
       "299"
      ]
     },
     "execution_count": 31,
     "metadata": {},
     "output_type": "execute_result"
    }
   ],
   "source": [
    "len(df3)"
   ]
  },
  {
   "cell_type": "code",
   "execution_count": 32,
   "metadata": {},
   "outputs": [
    {
     "data": {
      "text/plain": [
       "[[4.355714286],\n",
       " [4.3596],\n",
       " [4.449108333],\n",
       " [4.507384146],\n",
       " [4.573610577],\n",
       " [4.648475806],\n",
       " [4.789469178],\n",
       " [4.896517857],\n",
       " [4.976210106],\n",
       " [5.027466825],\n",
       " [5.085640693],\n",
       " [5.13163745],\n",
       " [5.243914],\n",
       " [5.344758],\n",
       " [5.43198008],\n",
       " [5.550664],\n",
       " [5.677783999999999],\n",
       " [5.777944000000001],\n",
       " [5.793294000000001],\n",
       " [5.789528],\n",
       " [5.839968000000001],\n",
       " [6.011668],\n",
       " [6.158977999999999],\n",
       " [6.334011905],\n",
       " [6.540770916],\n",
       " [6.760796813],\n",
       " [7.131299603],\n",
       " [7.448974206],\n",
       " [7.687625],\n",
       " [7.893587649],\n",
       " [8.031674],\n",
       " [8.042404762],\n",
       " [7.996338645],\n",
       " [7.824618],\n",
       " [7.63074502],\n",
       " [7.437053785],\n",
       " [7.202183267],\n",
       " [6.947487999999999],\n",
       " [6.628502008000001],\n",
       " [6.337046],\n",
       " [6.090506],\n",
       " [5.953992032],\n",
       " [5.928641433999999],\n",
       " [5.960762948],\n",
       " [5.980354582],\n",
       " [6.021768924000001],\n",
       " [6.059966135],\n",
       " [6.098654762000001],\n",
       " [6.151189243],\n",
       " [6.182089640999999],\n",
       " [6.134214286],\n",
       " [6.093173307000001],\n",
       " [6.055414343],\n",
       " [5.964747011999999],\n",
       " [5.887434263000001],\n",
       " [5.824850598],\n",
       " [5.799123506],\n",
       " [5.814824700999999],\n",
       " [5.8922749],\n",
       " [5.94939243],\n",
       " [6.045308765],\n",
       " [6.176149402],\n",
       " [6.330681274999999],\n",
       " [6.462593625],\n",
       " [6.620711155],\n",
       " [6.817183267000001],\n",
       " [7.037296813],\n",
       " [7.301151394],\n",
       " [7.607715138999999],\n",
       " [7.955786853],\n",
       " [8.285786853],\n",
       " [8.66821627],\n",
       " [9.142890438],\n",
       " [9.632204365],\n",
       " [10.097992],\n",
       " [10.59273904],\n",
       " [11.064779120000003],\n",
       " [11.623128000000001],\n",
       " [12.194328],\n",
       " [12.57493373],\n",
       " [12.748054000000002],\n",
       " [12.697684],\n",
       " [12.57784538],\n",
       " [12.31991833],\n",
       " [12.10092169],\n",
       " [11.74912851],\n",
       " [11.37571912],\n",
       " [11.123065740000001],\n",
       " [10.965137450000002],\n",
       " [10.69718725],\n",
       " [10.30460956],\n",
       " [10.130880950000002],\n",
       " [9.924729084],\n",
       " [9.967657371],\n",
       " [10.05813546],\n",
       " [10.195625000000001],\n",
       " [10.18749004],\n",
       " [10.195215140000002],\n",
       " [10.23866135],\n",
       " [10.19646614],\n",
       " [10.04230279],\n",
       " [9.820249004],\n",
       " [9.78314741],\n",
       " [9.758896414],\n",
       " [9.872691235],\n",
       " [10.03626892],\n",
       " [10.23916733],\n",
       " [10.488871030000002],\n",
       " [10.820051590000002],\n",
       " [11.161476190000002],\n",
       " [11.53445238],\n",
       " [11.84335119],\n",
       " [12.180384919999998],\n",
       " [12.540329369999998],\n",
       " [12.82943056],\n",
       " [13.14088492],\n",
       " [13.36829563],\n",
       " [13.403831349999999],\n",
       " [13.331113099999998],\n",
       " [13.18524603],\n",
       " [13.02899203],\n",
       " [12.92585913],\n",
       " [12.91531474],\n",
       " [12.979482140000002],\n",
       " [13.03210119],\n",
       " [13.08283466],\n",
       " [13.30852579],\n",
       " [13.59444048],\n",
       " [13.852874499999999],\n",
       " [14.14281944],\n",
       " [14.37670833],\n",
       " [14.62263889],\n",
       " [14.80056548],\n",
       " [14.95725697],\n",
       " [15.036226],\n",
       " [14.99857769],\n",
       " [15.02160558],\n",
       " [15.092848610000003],\n",
       " [14.91171713],\n",
       " [14.573199200000001],\n",
       " [14.31340837],\n",
       " [14.081195219999998],\n",
       " [13.96189243],\n",
       " [13.858714290000002],\n",
       " [13.74322112],\n",
       " [13.66407769],\n",
       " [13.649964290000002],\n",
       " [13.719836649999998],\n",
       " [13.75329283],\n",
       " [13.68826494],\n",
       " [13.511191240000002],\n",
       " [13.34249203],\n",
       " [13.033996019999998],\n",
       " [12.740631469999999],\n",
       " [12.54126892],\n",
       " [12.285],\n",
       " [12.05744024],\n",
       " [11.785774900000002],\n",
       " [11.39634263],\n",
       " [10.964848610000002],\n",
       " [10.54374303],\n",
       " [10.13926494],\n",
       " [9.96825498],\n",
       " [9.829001984],\n",
       " [9.752155378],\n",
       " [9.685557769],\n",
       " [9.554262948],\n",
       " [9.424152778],\n",
       " [9.323820717],\n",
       " [9.230406746],\n",
       " [9.150996016],\n",
       " [9.145709163],\n",
       " [9.23869246],\n",
       " [9.392281746],\n",
       " [9.431049801],\n",
       " [9.499333333],\n",
       " [9.569313492],\n",
       " [9.639694444],\n",
       " [9.755954365],\n",
       " [9.875337302],\n",
       " [10.00494048],\n",
       " [10.1364004],\n",
       " [10.22763492],\n",
       " [10.216149400000003],\n",
       " [10.123440240000003],\n",
       " [9.927065737],\n",
       " [9.885936255],\n",
       " [9.835205179],\n",
       " [9.838900398],\n",
       " [9.838005976],\n",
       " [9.820874502],\n",
       " [9.782045817],\n",
       " [9.730741036],\n",
       " [9.710304781],\n",
       " [9.747066],\n",
       " [9.821089641],\n",
       " [9.881956175],\n",
       " [9.882015936],\n",
       " [9.76261753],\n",
       " [9.692123506],\n",
       " [9.595559761],\n",
       " [9.489256972],\n",
       " [9.400880478],\n",
       " [9.345579365],\n",
       " [9.291846614],\n",
       " [9.213025896],\n",
       " [9.100494048],\n",
       " [8.965121514],\n",
       " [8.802033865],\n",
       " [8.776924303],\n",
       " [8.806031873],\n",
       " [8.802525896],\n",
       " [8.836758964],\n",
       " [8.89585259],\n",
       " [8.919378486],\n",
       " [8.929755952],\n",
       " [8.93597012],\n",
       " [8.917237052],\n",
       " [8.89246627],\n",
       " [8.86127381],\n",
       " [8.868908367],\n",
       " [8.849196429],\n",
       " [8.855928571],\n",
       " [8.890021825],\n",
       " [8.982769841],\n",
       " [9.093488048],\n",
       " [9.278960317],\n",
       " [9.534424901],\n",
       " [9.876501992],\n",
       " [10.25155179],\n",
       " [10.74819522],\n",
       " [11.265454180000003],\n",
       " [11.83486653],\n",
       " [12.3533008],\n",
       " [12.78549801],\n",
       " [13.166834659999997],\n",
       " [13.40037897],\n",
       " [13.54639286],\n",
       " [13.62744444],\n",
       " [13.68899412],\n",
       " [13.71630784],\n",
       " [13.87696094],\n",
       " [14.10976367],\n",
       " [14.287542800000002],\n",
       " [14.370558370000001],\n",
       " [14.56954047],\n",
       " [14.69242326],\n",
       " [14.90229922],\n",
       " [15.058936820000001],\n",
       " [15.18084767],\n",
       " [15.339946719999999],\n",
       " [15.54269012],\n",
       " [15.67803468],\n",
       " [15.64951089],\n",
       " [15.51626369],\n",
       " [15.348910059999998],\n",
       " [15.14829708],\n",
       " [14.819153910000002],\n",
       " [14.64691489],\n",
       " [14.31887324],\n",
       " [14.1866],\n",
       " [14.46107143],\n",
       " [14.62833333],\n",
       " [14.345240544689652],\n",
       " [14.197297103014186],\n",
       " [14.053259767717782],\n",
       " [13.915610684491899],\n",
       " [13.783157370618536],\n",
       " [13.65713617490323],\n",
       " [13.536303325048706],\n",
       " [13.41967284637981],\n",
       " [13.307325722442753],\n",
       " [13.199232934133478],\n",
       " [13.0933894638203],\n",
       " [12.98649860630942],\n",
       " [12.877051368189713],\n",
       " [12.765371008783154],\n",
       " [12.651988645180328],\n",
       " [12.535718543292084],\n",
       " [12.42071313445055],\n",
       " [12.304465303037516],\n",
       " [12.191364357257783],\n",
       " [12.08893974232061],\n",
       " [11.993414250657993],\n",
       " [11.895185258277596],\n",
       " [11.798138625671927],\n",
       " [11.702950565451868],\n",
       " [11.610271645438678],\n",
       " [11.520620160328125],\n",
       " [11.434444893938812],\n",
       " [11.35206235696386],\n",
       " [11.27369187984093],\n",
       " [11.19949880397688],\n",
       " [11.129596506336407],\n",
       " [11.064022779241077],\n",
       " [11.002747928723945],\n",
       " [10.94570581822227],\n",
       " [10.892853931374292],\n",
       " [10.844155150721326]]"
      ]
     },
     "execution_count": 32,
     "metadata": {},
     "output_type": "execute_result"
    }
   ],
   "source": [
    "df3"
   ]
  },
  {
   "cell_type": "code",
   "execution_count": 44,
   "metadata": {},
   "outputs": [
    {
     "name": "stdout",
     "output_type": "stream",
     "text": [
      "299 299\n"
     ]
    }
   ],
   "source": [
    "import pandas as pd\n",
    "date = pd.date_range('2002-01-01', periods=len(df3), freq='1M')\n",
    "print(len(df3), len(date))"
   ]
  },
  {
   "cell_type": "code",
   "execution_count": 34,
   "metadata": {},
   "outputs": [
    {
     "data": {
      "text/plain": [
       "263"
      ]
     },
     "execution_count": 34,
     "metadata": {},
     "output_type": "execute_result"
    }
   ],
   "source": [
    "len(date[:263])"
   ]
  },
  {
   "cell_type": "code",
   "execution_count": 43,
   "metadata": {},
   "outputs": [
    {
     "data": {
      "text/plain": [
       "<AxesSubplot: title={'center': 'Three-year soybean price forecast'}, xlabel='Year', ylabel='U.S. Dollar / bushel'>"
      ]
     },
     "execution_count": 43,
     "metadata": {},
     "output_type": "execute_result"
    },
    {
     "data": {
      "image/png": "[encoded data removed]",
      "text/plain": [
       "<Figure size 640x480 with 1 Axes>"
      ]
     },
     "metadata": {},
     "output_type": "display_data"
    }
   ],
   "source": [
    "df_part = pd.DataFrame(\n",
    "        index=date[0:263],\n",
    "        columns=['Actual'],\n",
    "        data=df3[0:263]\n",
    "    )\n",
    "\n",
    "df_future = pd.DataFrame(\n",
    "        index=date[262:],\n",
    "        columns=['Predict'],\n",
    "        data=df3[262:]\n",
    "    )\n",
    "\n",
    "result = df_part.join(df_future, how='outer')\n",
    "result.plot(title=\"Three-year soybean price forecast\", xlabel=\"Year\", ylabel=\"U.S. Dollar / bushel\")\n"
   ]
  }
 ],
 "metadata": {
  "kernelspec": {
   "display_name": "Python 3",
   "language": "python",
   "name": "python3"
  },
  "language_info": {
   "codemirror_mode": {
    "name": "ipython",
    "version": 3
   },
   "file_extension": ".py",
   "mimetype": "text/x-python",
   "name": "python",
   "nbconvert_exporter": "python",
   "pygments_lexer": "ipython3",
   "version": "3.9.6"
  },
  "orig_nbformat": 4,
  "vscode": {
   "interpreter": {
    "hash": "31f2aee4e71d21fbe5cf8b01ff0e069b9275f58929596ceb00d14d90e3e16cd6"
   }
  }
 },
 "nbformat": 4,
 "nbformat_minor": 2
}
