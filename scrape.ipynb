{
 "cells": [
  {
   "cell_type": "code",
   "execution_count": null,
   "metadata": {},
   "outputs": [],
   "source": [
    "!pip3 install selenium\n",
    "!pip3 install bs4\n",
    "!pip3 install pandas\n",
    "!pip3 install xlwt\n",
    "!pip3 install openpyxl"
   ]
  },
  {
   "cell_type": "code",
   "execution_count": null,
   "metadata": {},
   "outputs": [],
   "source": [
    "import requests\n",
    "import time\n",
    "import bs4\n",
    "import re\n",
    "from selenium import webdriver\n",
    "from selenium.webdriver.common.by import By\n",
    "from selenium.webdriver.common.keys import Keys\n"
   ]
  },
  {
   "cell_type": "code",
   "execution_count": null,
   "metadata": {},
   "outputs": [],
   "source": [
    "# Constant for setting script\n",
    "key_word = \"plant based\"\n",
    "show_only_shopee_mall = False"
   ]
  },
  {
   "cell_type": "code",
   "execution_count": null,
   "metadata": {},
   "outputs": [],
   "source": [
    "# Helper Function\n",
    "def zoom_out(driver): \n",
    "    driver.execute_script(\"document.getElementsByTagName('body')[0].style.scale='0.1';\")\n",
    "    driver.execute_script(\"document.getElementsByTagName('body')[0].style.transformOrigin = '0 0';\")\n",
    "    time.sleep(2)\n",
    "\n",
    "def next_page(driver):\n",
    "    next_button = driver.find_element(By.XPATH, '/html/body/div[1]/div/div[2]/div/div/div[2]/div/div[1]/div[2]/button[2]')\n",
    "    next_button.click()"
   ]
  },
  {
   "cell_type": "code",
   "execution_count": null,
   "metadata": {},
   "outputs": [],
   "source": [
    "options = webdriver.ChromeOptions()\n",
    "options.add_argument(\"--incognito\")\n",
    "options.add_argument(\"--headless\")\n",
    "driver = webdriver.Chrome(options=options)\n",
    "driver.get(\"https://shopee.co.th/\")\n",
    "\n",
    "# Select Thai language\n",
    "thai_button = driver.find_element(By.XPATH,'/html/body/div[2]/div[1]/div[1]/div/div[3]/div[1]/button')\n",
    "thai_button.click()\n",
    "\n",
    "# Close ads\n",
    "ads_button = driver.execute_script('return document.querySelector(\\\"shopee-banner-popup-stateful\\\").shadowRoot.querySelector(\\\"div.shopee-popup__close-btn\\\")')\n",
    "ads_button.click()\n",
    "\n",
    "# Search product\n",
    "search_input = driver.find_element(By.XPATH, '/html/body/div[1]/div/header/div[2]/div/div[1]/div[1]/div/form/input')\n",
    "search_input.send_keys(key_word)\n",
    "search_button = driver.find_element(By.XPATH, '/html/body/div[1]/div/header/div[2]/div/div[1]/div[1]/button')\n",
    "search_button.click()\n",
    "\n",
    "# Zoom out page\n",
    "zoom_out(driver=driver)\n",
    "\n",
    "\n",
    "# Check box Shopee Mall\n",
    "if(show_only_shopee_mall):\n",
    "    try:\n",
    "        check_box = driver.find_element(By.XPATH, '/html/body/div[1]/div/div[2]/div/div/div[1]/div[8]/div[2]/div[1]/div/label/span')\n",
    "        check_box.click()\n",
    "        time.sleep(3)\n",
    "    except:\n",
    "        print('Check box Shopee Mall not found')\n",
    "        \n",
    "# Find number of max pagination\n",
    "max_page = driver.find_element(By.XPATH, '/html/body/div[1]/div/div[2]/div/div/div[2]/div/div[1]/div[2]/div/span[2]')\n",
    "max_page = int(max_page.text)\n"
   ]
  },
  {
   "cell_type": "code",
   "execution_count": null,
   "metadata": {},
   "outputs": [],
   "source": [
    "# Get all product link\n",
    "links = []\n",
    "\n",
    "for n in range(max_page):\n",
    "    print(\"get links page {} of {}\".format(n + 1, max_page))\n",
    "\n",
    "    if(n != 0):\n",
    "        next_page(driver)\n",
    "        zoom_out(driver)\n",
    "    \n",
    "    data = driver.page_source\n",
    "    soup = bs4.BeautifulSoup(data)\n",
    "    el=soup.select(\".row>div\")\n",
    "    \n",
    "    for e in el:\n",
    "        for a in e.find_all('a', href=True):\n",
    "            links.append(a['href'])\n",
    "            \n",
    "print(\"links count: {}\".format(len(links)))"
   ]
  },
  {
   "cell_type": "code",
   "execution_count": 21,
   "metadata": {},
   "outputs": [
    {
     "name": "stdout",
     "output_type": "stream",
     "text": [
      "can not get product 305 of 728: 1 times\n"
     ]
    }
   ],
   "source": [
    "products = []\n",
    "get_success = 0\n",
    "\n",
    "# Open link and get detail products\n",
    "for idx, link in enumerate(links):\n",
    "    count = 1\n",
    "    alway_get_detail = True\n",
    "    \n",
    "    print(\"product {} of {}: https://shopee.co.th{}\".format(idx + 1, len(links), link))\n",
    "\n",
    "    while alway_get_detail and count <= 3:\n",
    "        try:\n",
    "            driver.get(\"https://shopee.co.th\" + link)\n",
    "            time.sleep(3)\n",
    "\n",
    "            data = driver.page_source\n",
    "            soup = bs4.BeautifulSoup(data)\n",
    "\n",
    "            name = soup.select_one(\"div.product-briefing > div:nth-child(3) > div:nth-child(1) > div:nth-child(1) > span\").text.strip().replace(',', '')\n",
    "\n",
    "            try:\n",
    "                amount_text = soup.select_one('div.product-briefing > div:nth-child(3) > div:nth-child(1) > div:nth-child(2) > div:nth-child(3) > div:nth-child(1)').text.strip().replace(\"พัน\",\"000\").replace(\"ล้าน\",\"000000\")\n",
    "                amount_float = float(re.sub('\\D', '', amount_text))\n",
    "            except:\n",
    "                amount_float = 0\n",
    "                \n",
    "            company = soup.select_one('div.page-product__shop > div:nth-child(1) > div:nth-child(2) > div:nth-child(1)').text.strip()\n",
    "\n",
    "            joined_text = soup.select_one('div.page-product__shop > div:nth-child(2) > div:nth-child(3) > div:nth-child(1) > span').text.strip()\n",
    "            split_joined_text = re.split(' ', joined_text)\n",
    "            joined = int(split_joined_text[0]) * int(split_joined_text[1].replace(\"ปี\", \"365\").replace(\"เดือน\", \"30\").replace(\"วัน\", '1'))\n",
    "\n",
    "            product_detail = soup.select_one('div.product-detail > div > div:nth-child(2)')\n",
    "            product_detail = product_detail.select('div')\n",
    "            for pd in product_detail:\n",
    "                if(pd.select_one('label') and pd.select_one('label').text.strip() == 'ส่งจาก'):\n",
    "                    detail = pd.select_one('div').text.strip().split(', ')\n",
    "                    province = detail[len(detail) - 1]\n",
    "\n",
    "            prices = []\n",
    "            price = 0\n",
    "            price_el = soup.select_one('div.product-briefing > div:nth-child(3) > div:nth-child(1) > div:nth-child(3) > div > div > div > div')\n",
    "            price_el = price_el.select('div')\n",
    "            for pd in price_el:\n",
    "                if(re.search(\"^฿\\d+(,\\d{3})*(\\.\\d{1,2})?$\" ,pd.text.strip())):\n",
    "                    prices.append(float(pd.text.strip().replace('฿', '').replace(',', '')))\n",
    "                \n",
    "                price_text = pd.text.strip().split(' - ')\n",
    "                if(len(price_text) == 2 and re.search(\"^฿\\d+(,\\d{3})*(\\.\\d{1,2})?$\" ,price_text[0]) and re.search(\"^฿\\d+(,\\d{3})*(\\.\\d{1,2})?$\" ,price_text[1])):\n",
    "                    prices.append(float(price_text[0].replace('฿', '').replace(',', '')))\n",
    "                    prices.append(float(price_text[1].replace('฿', '').replace(',', '')))\n",
    "\n",
    "            if len(prices) != 0 :\n",
    "                price = min(prices)\n",
    "                \n",
    "        except:\n",
    "            print(\"can not get product {} of {}: {} times\".format(idx + 1, len(links), count))\n",
    "            count = count + 1\n",
    "            continue\n",
    "\n",
    "        get_success = get_success + 1\n",
    "        alway_get_detail = False\n",
    "        products.append([name, price, amount_float, company, province, joined])\n",
    "\n",
    "print(\"successfully {} of {}\".format(get_success, len(links)))"
   ]
  },
  {
   "cell_type": "code",
   "execution_count": null,
   "metadata": {},
   "outputs": [],
   "source": [
    "import pandas as pd\n",
    "\n",
    "# Exprot data to xlsx and json\n",
    "df = pd.DataFrame(products, columns=['name', 'price', 'amount', 'company', 'province', 'joined'])\n",
    "df.to_excel('plant_based_products.xlsx', encoding='utf-8')\n",
    "df.to_json('plant_based_products.json', force_ascii=False)"
   ]
  },
  {
   "cell_type": "code",
   "execution_count": null,
   "metadata": {},
   "outputs": [],
   "source": [
    "# For upload json to data node\n",
    "from dsmlibrary.datanode import DataNode\n",
    "\n",
    "dir_raw_id = 85\n",
    "datanode = DataNode()\n",
    "datanode.upload_file(directory_id=dir_raw_id, file_path='plant_based_products.json')"
   ]
  }
 ],
 "metadata": {
  "kernelspec": {
   "display_name": "Python 3.9.10 64-bit",
   "language": "python",
   "name": "python3"
  },
  "language_info": {
   "codemirror_mode": {
    "name": "ipython",
    "version": 3
   },
   "file_extension": ".py",
   "mimetype": "text/x-python",
   "name": "python",
   "nbconvert_exporter": "python",
   "pygments_lexer": "ipython3",
   "version": "3.9.10"
  },
  "orig_nbformat": 4,
  "vscode": {
   "interpreter": {
    "hash": "949777d72b0d2535278d3dc13498b2535136f6dfe0678499012e853ee9abcab1"
   }
  }
 },
 "nbformat": 4,
 "nbformat_minor": 2
}
